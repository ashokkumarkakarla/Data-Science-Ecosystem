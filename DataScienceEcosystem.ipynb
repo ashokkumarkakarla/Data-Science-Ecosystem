{
 "cells": [
  {
   "cell_type": "markdown",
   "id": "73e3a1db-cf64-4c64-9f09-220e03f8086f",
   "metadata": {},
   "source": [
    "# Data Science Tools and Ecosystem"
   ]
  },
  {
   "cell_type": "markdown",
   "id": "dc06cbea-36e1-4bae-add9-83b1c4eb6f53",
   "metadata": {},
   "source": [
    "In this notebook, Data Science Tools and Ecosystem are summarized."
   ]
  },
  {
   "cell_type": "markdown",
   "id": "bb701a40-8875-4520-b7c5-8ec1f6ee955f",
   "metadata": {},
   "source": [
    "**Objectives:**\n",
    "\n",
    "- List popular languages for Data Science\n",
    "- Introduce commonly used libraries in Data Science\n",
    "- Explain data visualization techniques\n",
    "- Describe how to use development environments\n",
    "- Demonstrate basic arithmetic operations in Python"
   ]
  },
  {
   "cell_type": "markdown",
   "id": "64bbfbf6-0972-4b0d-9bc3-1e9892c8c84c",
   "metadata": {},
   "source": [
    "Some of the popular languages that Data Scientists use are:"
   ]
  },
  {
   "cell_type": "markdown",
   "id": "487b973a-8089-419b-8ce9-308c2af5ba09",
   "metadata": {},
   "source": [
    "- Python\n",
    "- R\n",
    "- SQL"
   ]
  },
  {
   "cell_type": "markdown",
   "id": "b9bbf971-ba9e-4101-9e63-d73e5c411452",
   "metadata": {},
   "source": [
    "Some of the commonly used libraries used by Data Scientists include:"
   ]
  },
  {
   "cell_type": "markdown",
   "id": "a2943245-f4ef-4780-891f-1f056b1eee41",
   "metadata": {},
   "source": [
    "- Pandas\n",
    "- Scikit-learn\n",
    "- TensorFlow\n",
    "- ggplot"
   ]
  },
  {
   "cell_type": "markdown",
   "id": "4f22d184-6e0b-44e1-8b70-222af023050f",
   "metadata": {},
   "source": [
    "## Data Science Tools"
   ]
  },
  {
   "cell_type": "markdown",
   "id": "eb793061-2ba5-4371-9a28-21c46e8078b8",
   "metadata": {},
   "source": [
    "| Data Science Tools   |\n",
    "|----------------------|\n",
    "| Jupyter Notebook     |\n",
    "| RStudio              |\n",
    "| Visual Studio Code   |"
   ]
  },
  {
   "cell_type": "markdown",
   "id": "47cb90fb-2171-4101-a5dd-d361a5837920",
   "metadata": {},
   "source": [
    "### Below are a few examples of evaluating arithmetic expressions in Python"
   ]
  },
  {
   "cell_type": "markdown",
   "id": "8ea2d724-d4b1-49c7-86ee-0df81e7c4966",
   "metadata": {},
   "source": [
    "- **Addition**: `2 + 3` results in `5`\n",
    "- **Subtraction**: `5 - 2` results in `3`\n",
    "- **Multiplication**: `3 * 4` results in `12`\n",
    "- **Division**: `8 / 2` results in `4`\n",
    "- **Exponentiation**: `2 ** 3` results in `8` (2 raised to the power of 3)\n",
    "- **Modulus**: `7 % 2` results in `1` (remainder of 7 divided by 2)"
   ]
  },
  {
   "cell_type": "markdown",
   "id": "40b8f25b-5f24-41bc-b996-3a78f42cda62",
   "metadata": {},
   "source": [
    "This a simple arithmetic expression to mutiply then add integers"
   ]
  },
  {
   "cell_type": "code",
   "execution_count": 2,
   "id": "ad4e7c59-ccef-49f6-b907-2548d4e4944c",
   "metadata": {},
   "outputs": [
    {
     "data": {
      "text/plain": [
       "17"
      ]
     },
     "execution_count": 2,
     "metadata": {},
     "output_type": "execute_result"
    }
   ],
   "source": [
    "(3*4)+5"
   ]
  },
  {
   "cell_type": "markdown",
   "id": "53d837a1-bb70-47c3-a041-c0275b411a6a",
   "metadata": {},
   "source": [
    "This will convert 200 minutes to hours by diving by 60"
   ]
  },
  {
   "cell_type": "code",
   "execution_count": 4,
   "id": "50e6872b-ce51-48c4-8114-f1cba50fc110",
   "metadata": {},
   "outputs": [
    {
     "data": {
      "text/plain": [
       "'3.33'"
      ]
     },
     "execution_count": 4,
     "metadata": {},
     "output_type": "execute_result"
    }
   ],
   "source": [
    "hours = 200 / 60\n",
    "formatted_hours = \"{:.2f}\".format(hours)\n",
    "formatted_hours"
   ]
  },
  {
   "cell_type": "markdown",
   "id": "19c38828-14f9-490a-a0ef-9a2f7a1e787c",
   "metadata": {},
   "source": [
    "## Author\n",
    "Israel Souza"
   ]
  }
 ],
 "metadata": {
  "kernelspec": {
   "display_name": "Python 3 (ipykernel)",
   "language": "python",
   "name": "python3"
  },
  "language_info": {
   "codemirror_mode": {
    "name": "ipython",
    "version": 3
   },
   "file_extension": ".py",
   "mimetype": "text/x-python",
   "name": "python",
   "nbconvert_exporter": "python",
   "pygments_lexer": "ipython3",
   "version": "3.12.4"
  }
 },
 "nbformat": 4,
 "nbformat_minor": 5
}
